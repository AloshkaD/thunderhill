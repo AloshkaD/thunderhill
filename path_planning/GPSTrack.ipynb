{
 "cells": [
  {
   "cell_type": "code",
   "execution_count": 13,
   "metadata": {
    "collapsed": true,
    "deletable": true,
    "editable": true
   },
   "outputs": [],
   "source": [
    "import matplotlib.pyplot as plt\n",
    "from matplotlib.path import Path\n",
    "import matplotlib.patches as patches\n",
    "%matplotlib inline"
   ]
  },
  {
   "cell_type": "code",
   "execution_count": 1,
   "metadata": {
    "collapsed": false,
    "deletable": true,
    "editable": true
   },
   "outputs": [],
   "source": [
    "points=[\n",
    "            [-122.3387906,39.5374557,0],\n",
    "            [-122.3389462,39.5384693,0],\n",
    "            [-122.3389864,39.5385582,0],\n",
    "            [-122.3390454,39.5386182,0],\n",
    "            [-122.3391178,39.5386658,0],\n",
    "            [-122.3392171,39.5387072,0],\n",
    "            [-122.3392949,39.5387444,0],\n",
    "            [-122.3393539,39.538794,0],\n",
    "            [-122.3393995,39.5388437,0],\n",
    "            [-122.3394129,39.5388768,0],\n",
    "            [-122.3396261,39.5391902,0],\n",
    "            [-122.339673,39.5392677,0],\n",
    "            [-122.339673,39.5392677,0],\n",
    "            [-122.3396797,39.5393225,0],\n",
    "            [-122.3396771,39.5393763,0],\n",
    "            [-122.339665,39.5394187,0],\n",
    "            [-122.3396301,39.5394756,0],\n",
    "            [-122.3395993,39.5395066,0],\n",
    "            [-122.3394477,39.5397218,0],\n",
    "            [-122.3394035,39.5397745,0],\n",
    "            [-122.3393512,39.5398097,0],\n",
    "            [-122.3392868,39.5398438,0],\n",
    "            [-122.3392144,39.5398697,0],\n",
    "            [-122.3391487,39.539879,0],\n",
    "            [-122.3390856,39.5398862,0],\n",
    "            [-122.3388335,39.5398965,0],\n",
    "            [-122.3386967,39.539911,0],\n",
    "            [-122.3386028,39.5399338,0],\n",
    "            [-122.3386028,39.5399338,0],\n",
    "            [-122.3384875,39.5399824,0],\n",
    "            [-122.3383883,39.5400372,0],\n",
    "            [-122.3382957,39.5401127,0],\n",
    "            [-122.3382407,39.5401717,0],\n",
    "            [-122.3381911,39.5402461,0],\n",
    "            [-122.3381576,39.5403206,0],\n",
    "            [-122.3381375,39.5404033,0],\n",
    "            [-122.3381442,39.5405067,0],\n",
    "            [-122.3381589,39.5405936,0],\n",
    "            [-122.3382019,39.5406743,0],\n",
    "            [-122.3382448,39.5407394,0],\n",
    "            [-122.3382998,39.5407912,0],\n",
    "            [-122.3383467,39.5408305,0],\n",
    "            [-122.3383936,39.5408656,0],\n",
    "            [-122.3383936,39.5408656,0],\n",
    "            [-122.3384768,39.5409122,0],\n",
    "            [-122.338568,39.5409494,0],\n",
    "            [-122.3386672,39.5409763,0],\n",
    "            [-122.3387933,39.5409908,0],\n",
    "            [-122.3389167,39.5409908,0],\n",
    "            [-122.3390239,39.5409825,0],\n",
    "            [-122.3391151,39.5409701,0],\n",
    "            [-122.339209,39.5409287,0],\n",
    "            [-122.3416337,39.5396732,0],\n",
    "            [-122.341733,39.5396173,0],\n",
    "            [-122.3418108,39.5395656,0],\n",
    "            [-122.3418295,39.5394953,0],\n",
    "            [-122.3418295,39.5394208,0],\n",
    "            [-122.3418295,39.5393484,0],\n",
    "            [-122.341851,39.5392595,0],\n",
    "            [-122.3418885,39.5391891,0],\n",
    "            [-122.3419476,39.5391043,0],\n",
    "            [-122.34202,39.5390195,0],\n",
    "            [-122.3421299,39.5389285,0],\n",
    "            [-122.3422211,39.5388644,0],\n",
    "            [-122.3423177,39.5387878,0],\n",
    "            [-122.3423941,39.5387092,0],\n",
    "            [-122.3424344,39.5386586,0],\n",
    "            [-122.3424679,39.5386141,0],\n",
    "            [-122.3425041,39.5385531,0],\n",
    "            [-122.3425296,39.5385065,0],\n",
    "            [-122.3425497,39.538462,0],\n",
    "            [-122.3425658,39.5384227,0],\n",
    "            [-122.3425846,39.5383679,0],\n",
    "            [-122.3425953,39.5383069,0],\n",
    "            [-122.3426047,39.5382604,0],\n",
    "            [-122.3426127,39.5382169,0],\n",
    "            [-122.3426194,39.538159,0],\n",
    "            [-122.3426194,39.538099,0],\n",
    "            [-122.3426168,39.5380504,0],\n",
    "            [-122.3426087,39.5379935,0],\n",
    "            [-122.342598,39.5379449,0],\n",
    "            [-122.3425765,39.537887,0],\n",
    "            [-122.3425591,39.5378343,0],\n",
    "            [-122.3425591,39.5378343,0],\n",
    "            [-122.3425336,39.5377763,0],\n",
    "            [-122.3425055,39.5377381,0],\n",
    "            [-122.3424558,39.5376998,0],\n",
    "            [-122.3423874,39.5376584,0],\n",
    "            [-122.3423043,39.5376284,0],\n",
    "            [-122.3422386,39.5376129,0],\n",
    "            [-122.3421447,39.5376057,0],\n",
    "            [-122.3421447,39.5376057,0],\n",
    "            [-122.3420669,39.5375933,0],\n",
    "            [-122.3420052,39.5375757,0],\n",
    "            [-122.3419288,39.5375478,0],\n",
    "            [-122.3418604,39.5375116,0],\n",
    "            [-122.3411067,39.5370792,0],\n",
    "            [-122.3410571,39.5370451,0],\n",
    "            [-122.3410088,39.5370068,0],\n",
    "            [-122.3409592,39.5369603,0],\n",
    "            [-122.3409592,39.5369603,0],\n",
    "            [-122.3409149,39.5369096,0],\n",
    "            [-122.3408854,39.536862,0],\n",
    "            [-122.3408653,39.5368083,0],\n",
    "            [-122.3408411,39.5367193,0],\n",
    "            [-122.3408304,39.5366366,0],\n",
    "            [-122.3408385,39.536558,0],\n",
    "            [-122.3408639,39.5364473,0],\n",
    "            [-122.3408639,39.5364473,0],\n",
    "            [-122.3408827,39.536377,0],\n",
    "            [-122.3408988,39.5363139,0],\n",
    "            [-122.3409042,39.5362642,0],\n",
    "            [-122.3408988,39.5361991,0],\n",
    "            [-122.3408867,39.5361215,0],\n",
    "            [-122.3408867,39.5361215,0],\n",
    "            [-122.3408666,39.5360532,0],\n",
    "            [-122.3407593,39.5357853,0],\n",
    "            [-122.3407473,39.5357564,0],\n",
    "            [-122.3407339,39.5357057,0],\n",
    "            [-122.3407339,39.5357057,0],\n",
    "            [-122.3407245,39.5356157,0],\n",
    "            [-122.3407231,39.5355257,0],\n",
    "            [-122.3407352,39.5354316,0],\n",
    "            [-122.340758,39.535354,0],\n",
    "            [-122.3407929,39.5352692,0],\n",
    "            [-122.3408304,39.5351823,0],\n",
    "            [-122.3411724,39.5345566,0],\n",
    "            [-122.3411925,39.5345059,0],\n",
    "            [-122.3412153,39.5344418,0],\n",
    "            [-122.3412341,39.5343787,0],\n",
    "            [-122.3412435,39.5343032,0],\n",
    "            [-122.3412435,39.534238,0],\n",
    "            [-122.3412381,39.5341646,0],\n",
    "            [-122.341222,39.5340984,0],\n",
    "            [-122.3411939,39.5340208,0],\n",
    "            [-122.3411563,39.5339453,0],\n",
    "            [-122.3411188,39.5338812,0],\n",
    "            [-122.3410852,39.5338377,0],\n",
    "            [-122.3409994,39.5337571,0],\n",
    "            [-122.3409069,39.5336878,0],\n",
    "            [-122.3409069,39.5336878,0],\n",
    "            [-122.3408076,39.5336226,0],\n",
    "            [-122.3406735,39.5335647,0],\n",
    "            [-122.3404911,39.533515,0],\n",
    "            [-122.3403329,39.5334902,0],\n",
    "            [-122.3401746,39.5334674,0],\n",
    "            [-122.3400351,39.5334364,0],\n",
    "            [-122.3399091,39.533395,0],\n",
    "            [-122.3398259,39.5333578,0],\n",
    "            [-122.3397267,39.5333144,0],\n",
    "            [-122.3396221,39.5332544,0],\n",
    "            [-122.3395148,39.5331923,0],\n",
    "            [-122.3394209,39.5331447,0],\n",
    "            [-122.3393109,39.5331034,0],\n",
    "            [-122.3391983,39.5330723,0],\n",
    "            [-122.3390669,39.5330454,0],\n",
    "            [-122.3389515,39.5330289,0],\n",
    "            [-122.3388416,39.5330185,0],\n",
    "            [-122.3387316,39.5330185,0],\n",
    "            [-122.3387316,39.5330185,0],\n",
    "            [-122.3386565,39.533031,0],\n",
    "            [-122.3382702,39.5331116,0],\n",
    "            [-122.3382045,39.5331509,0],\n",
    "            [-122.3381737,39.5331996,0],\n",
    "            [-122.338163,39.5332554,0],\n",
    "            [-122.3381938,39.5333144,0],\n",
    "            [-122.3382622,39.5333557,0],\n",
    "            [-122.3383239,39.5333754,0],\n",
    "            [-122.3387624,39.5335099,0],\n",
    "            [-122.3388255,39.5335347,0],\n",
    "            [-122.3389193,39.5335802,0],\n",
    "            [-122.3389193,39.5335802,0],\n",
    "            [-122.3390172,39.5336443,0],\n",
    "            [-122.3390642,39.5336774,0],\n",
    "            [-122.3399694,39.5344045,0],\n",
    "            [-122.340011,39.5344449,0],\n",
    "            [-122.3400486,39.5344883,0],\n",
    "            [-122.3400915,39.5345411,0],\n",
    "            [-122.340129,39.5346052,0],\n",
    "            [-122.3401545,39.5346579,0],\n",
    "            [-122.34018,39.5347366,0],\n",
    "            [-122.3401974,39.5348038,0],\n",
    "            [-122.3402081,39.5348721,0],\n",
    "            [-122.3402068,39.5349238,0],\n",
    "            [-122.3402068,39.5349724,0],\n",
    "            [-122.3401974,39.5350241,0],\n",
    "            [-122.340019,39.5358133,0],\n",
    "            [-122.3400056,39.5358433,0],\n",
    "            [-122.3399828,39.5358774,0],\n",
    "            [-122.3399346,39.5359115,0],\n",
    "            [-122.3398715,39.5359374,0],\n",
    "            [-122.3398139,39.5359457,0],\n",
    "            [-122.3397481,39.5359415,0],\n",
    "            [-122.3396824,39.5359208,0],\n",
    "            [-122.3396234,39.5358919,0],\n",
    "            [-122.3395845,39.5358557,0],\n",
    "            [-122.339555,39.5358122,0],\n",
    "            [-122.3394276,39.5355123,0],\n",
    "            [-122.3393646,39.5354285,0],\n",
    "            [-122.3393096,39.5353758,0],\n",
    "            [-122.3392533,39.5353344,0],\n",
    "            [-122.3391755,39.5352847,0],\n",
    "            [-122.3391058,39.5352547,0],\n",
    "            [-122.3387302,39.5351399,0],\n",
    "            [-122.3386136,39.5351399,0],\n",
    "            [-122.338517,39.5351637,0],\n",
    "            [-122.3384674,39.5352061,0],\n",
    "            [-122.3384567,39.535293,0],\n",
    "            [-122.3387906,39.5374557,0]    \n",
    "]"
   ]
  },
  {
   "cell_type": "code",
   "execution_count": 5,
   "metadata": {
    "collapsed": false,
    "deletable": true,
    "editable": true
   },
   "outputs": [
    {
     "name": "stdout",
     "output_type": "stream",
     "text": [
      "113.03796570142124\n",
      "250.29966201494113 688.0157452085987\n"
     ]
    }
   ],
   "source": [
    "from geopy.distance import vincenty\n",
    "from mpl_toolkits.basemap import Basemap\n",
    "\n",
    "start = (39.53745, -122.33879)\n",
    "a = (39.538462, -122.338934)\n",
    "\n",
    "print(vincenty(start, a).meters \n",
    "m = Basemap(llcrnrlon=-122.341041,llcrnrlat=39.532678,urcrnrlon=-122.337929,urcrnrlat=39.541455,\n",
    "#m = Basemap(llcrnrx=0,llcrnry=0,urcrnrx=500,urcrnry=500,\n",
    "    projection='merc',lon_0=start[1],lat_0=start[0],resolution='h')\n",
    "p = start\n",
    "x1,y1=m(p[1], p[0])\n",
    "print(x1,y1)"
   ]
  },
  {
   "cell_type": "code",
   "execution_count": 50,
   "metadata": {
    "collapsed": false,
    "deletable": true,
    "editable": true
   },
   "outputs": [],
   "source": [
    "verts = [m(-122.3387906, 39.5374557)]\n",
    "codes=[Path.MOVETO]\n",
    "for p in points:\n",
    "    x1,y1=m(p[0], p[1])\n",
    "    verts.append((x1,y1))\n",
    "    codes.append(Path.LINETO)"
   ]
  },
  {
   "cell_type": "code",
   "execution_count": 51,
   "metadata": {
    "collapsed": false,
    "deletable": true,
    "editable": true
   },
   "outputs": [
    {
     "data": {
      "image/png": "[encoded data removed]",
      "text/plain": [
       "<matplotlib.figure.Figure at 0x10a088438>"
      ]
     },
     "metadata": {},
     "output_type": "display_data"
    }
   ],
   "source": [
    "path = Path(verts, codes)\n",
    "fig = plt.figure()\n",
    "ax = fig.add_subplot(111)\n",
    "patch = patches.PathPatch(path, facecolor='white')\n",
    "ax.add_patch(patch)\n",
    "ax.set_xlim(-200,1300)\n",
    "ax.set_ylim(-200,1300)\n",
    "plt.show()"
   ]
  },
  {
   "cell_type": "code",
   "execution_count": 52,
   "metadata": {
    "collapsed": false,
    "deletable": true,
    "editable": true
   },
   "outputs": [
    {
     "data": {
      "image/png": "[encoded data removed]",
      "text/plain": [
       "<matplotlib.figure.Figure at 0x11645aba8>"
      ]
     },
     "metadata": {},
     "output_type": "display_data"
    }
   ],
   "source": [
    "from bresenham import Bresenham\n",
    "import matplotlib.pyplot as plt\n",
    "from matplotlib.path import Path\n",
    "import matplotlib.patches as patches\n",
    "from matplotlib.lines import Line2D  \n",
    "%matplotlib inline\n",
    "import numpy as np\n",
    "\n",
    "path = Path(verts, codes)\n",
    "fig = plt.figure()\n",
    "ax = fig.add_subplot(111)\n",
    "prev = verts[0]\n",
    "#patch = patches.PathPatch(path, facecolor='white')\n",
    "#ax.add_patch(patch)\n",
    "path_plan = []\n",
    "\n",
    "for v in verts[2:]:\n",
    "    #ax.add_line(Line2D([prev[0], v[0]], [prev[1], v[1]], linewidth=1, color='black'))\n",
    "    #prev = v\n",
    "\n",
    "    #print(v)\n",
    "    try:\n",
    "        l = Bresenham((int(prev[0]), int(prev[1])), (int(v[0]), int(v[1])))    \n",
    "        for p in l.path:\n",
    "            path_plan.append(p)\n",
    "    except:\n",
    "        pass\n",
    "    prev = v\n",
    "\n",
    "avg_y = np.mean(np.array(path_plan)[:,1])\n",
    "path_plan_new = []\n",
    "for p in path_plan:\n",
    "    path_plan_new.append([p[0],int(2*avg_y - p[1])])\n",
    "    circle1 = plt.Circle((p[0]+200, p[1]), 1, color='r')\n",
    "    ax.add_artist(circle1)\n",
    "\n",
    "    \n",
    "ax.set_xlim(-250,1300)\n",
    "ax.set_ylim(-250,1300)\n",
    "plt.show()"
   ]
  },
  {
   "cell_type": "code",
   "execution_count": 70,
   "metadata": {
    "collapsed": false,
    "deletable": true,
    "editable": true
   },
   "outputs": [
    {
     "data": {
      "text/plain": [
       "4863"
      ]
     },
     "execution_count": 70,
     "metadata": {},
     "output_type": "execute_result"
    },
    {
     "data": {
      "image/png": "[encoded data removed]",
      "text/plain": [
       "<matplotlib.figure.Figure at 0x117e82128>"
      ]
     },
     "metadata": {},
     "output_type": "display_data"
    }
   ],
   "source": [
    "import cv2\n",
    "img = np.ones((1000,550, 3), np.uint8) \n",
    "img[:,:,0] = 255*np.ones((1000,550))\n",
    "img[:,:,1] = 255*np.ones((1000,550))\n",
    "img[:,:,2] = 255*np.ones((1000,550))\n",
    "\n",
    "for p in path_plan_new:\n",
    "    cv2.circle(img,(p[0]-150, p[1]-400), 1, (0,0,255))\n",
    "plt.imshow(img)\n",
    "len(path_plan)"
   ]
  },
  {
   "cell_type": "code",
   "execution_count": 7,
   "metadata": {
    "collapsed": true,
    "deletable": true,
    "editable": true
   },
   "outputs": [],
   "source": [
    "pointsx = [\n",
    "            [-122.3387906,39.5374557,0],\n",
    "            [-122.3389462,39.5384693,0],\n",
    "            [-122.3389864,39.5385582,0],\n",
    "            [-122.3390454,39.5386182,0],\n",
    "            [-122.3391178,39.5386658,0],\n",
    "            [-122.3392171,39.5387072,0],\n",
    "            [-122.3392949,39.5387444,0],\n",
    "            [-122.3393539,39.538794,0],\n",
    "            [-122.3393995,39.5388437,0],\n",
    "            [-122.3394129,39.5388768,0],\n",
    "            [-122.3396261,39.5391902,0],\n",
    "            [-122.339673,39.5392677,0]\n",
    "]"
   ]
  },
  {
   "cell_type": "code",
   "execution_count": 72,
   "metadata": {
    "collapsed": false,
    "deletable": true,
    "editable": true
   },
   "outputs": [],
   "source": [
    "\n",
    "#l = Bresenham((int(verts[1][0]), int(verts[0][1])), (int(verts[2][0]), int(verts[2][1])))\n",
    "#print (l.path)\n"
   ]
  },
  {
   "cell_type": "code",
   "execution_count": 74,
   "metadata": {
    "collapsed": false,
    "deletable": true,
    "editable": true
   },
   "outputs": [
    {
     "name": "stdout",
     "output_type": "stream",
     "text": [
      "[MoviePy] >>>> Building video path.mp4\n",
      "[MoviePy] Writing video path.mp4\n"
     ]
    },
    {
     "name": "stderr",
     "output_type": "stream",
     "text": [
      "100%|█████████▉| 4872/4873 [00:23<00:00, 206.70it/s]\n"
     ]
    },
    {
     "name": "stdout",
     "output_type": "stream",
     "text": [
      "[MoviePy] Done.\n",
      "[MoviePy] >>>> Video ready: path.mp4 \n",
      "\n"
     ]
    }
   ],
   "source": [
    "import imageio\n",
    "imageio.plugins.ffmpeg.download()\n",
    "import numpy as np\n",
    "import moviepy.editor as mpy\n",
    "import cv2\n",
    "W = 1\n",
    "\n",
    "maxp = len(path_plan)\n",
    "\n",
    "def make_frame(t):\n",
    "    pi = int(t * 24) % maxp\n",
    "    p = path_plan_new[pi] \n",
    "    #print(cur_p)\n",
    "    cp_img = np.copy(img)\n",
    "    cv2.circle(cp_img,(p[0]-150, p[1]-400), pi % 10, (255,0,0),3)\n",
    "    return cp_img # returns a 8-bit RGB array\n",
    "\n",
    "clip = mpy.VideoClip(make_frame, duration=(int(maxp/24)+1)) # 2 seconds\n",
    "clip.write_videofile(\"path.mp4\",fps=24, codec='mpeg4')"
   ]
  },
  {
   "cell_type": "code",
   "execution_count": 4,
   "metadata": {
    "collapsed": false,
    "deletable": true,
    "editable": true
   },
   "outputs": [
    {
     "name": "stdout",
     "output_type": "stream",
     "text": [
      "3381\n"
     ]
    },
    {
     "data": {
      "text/plain": [
       "'1240:746.9997:29.88195'"
      ]
     },
     "execution_count": 4,
     "metadata": {},
     "output_type": "execute_result"
    }
   ],
   "source": [
    "import os\n",
    "import csv\n",
    "\n",
    "def load_dataset():\n",
    "    \"\"\"\n",
    "    We load all image locations and their corresponding steering angles.\n",
    "    For left image we add 0.2 and for right image we subtract 0.2 from the \n",
    "    steering angle to compensate. We shuffle the list at the end.\n",
    "    \"\"\"\n",
    "    osamples = []\n",
    "    with open('driving_log1.csv') as csvfile:\n",
    "        reader = csv.reader(csvfile)\n",
    "        for line in reader:\n",
    "            osamples.append(line)\n",
    "\n",
    "    print(len(osamples));\n",
    "    return osamples\n",
    "\n",
    "samples = load_dataset()\n"
   ]
  },
  {
   "cell_type": "code",
   "execution_count": 38,
   "metadata": {
    "collapsed": false,
    "deletable": true,
    "editable": true
   },
   "outputs": [
    {
     "name": "stdout",
     "output_type": "stream",
     "text": [
      "['1240', '746.9997', '29.88195']\n"
     ]
    },
    {
     "data": {
      "text/plain": [
       "<matplotlib.image.AxesImage at 0x10a081588>"
      ]
     },
     "execution_count": 38,
     "metadata": {},
     "output_type": "execute_result"
    },
    {
     "data": {
      "image/png": "[encoded data removed]",
      "text/plain": [
       "<matplotlib.figure.Figure at 0x129c13080>"
      ]
     },
     "metadata": {},
     "output_type": "display_data"
    }
   ],
   "source": [
    "import numpy as np\n",
    "import cv2\n",
    "img = np.zeros((1500,1500, 3), np.uint8)\n",
    "\n",
    "pz = samples[0][5].split(\":\")\n",
    "print(pz)\n",
    "for sample in samples:\n",
    "    p = sample[5].split(\":\")\n",
    "    center = (2000-int(float(p[0])), int(float(p[1])))\n",
    "    cv2.circle(img,center, 10, (0,0,255))\n",
    "    \n",
    "plt.imshow(img)"
   ]
  },
  {
   "cell_type": "code",
   "execution_count": 30,
   "metadata": {
    "collapsed": false,
    "deletable": true,
    "editable": true
   },
   "outputs": [
    {
     "name": "stdout",
     "output_type": "stream",
     "text": [
      "[-122.3319084068355, 39.53802108081436]\n"
     ]
    }
   ],
   "source": [
    "from geopy.distance import vincenty\n",
    "from mpl_toolkits.basemap import Basemap\n",
    "\n",
    "ll = (-122.34306, 39.53284)\n",
    "ur = (-122.33776, 39.54123)\n",
    "\n",
    "mt = Basemap(llcrnrlon=ll[0],llcrnrlat=ll[1],urcrnrlon=ur[0], urcrnrlat=ur[1],\n",
    "    projection='merc',lon_0=ur[0],lat_0=ll[1],resolution='h')\n",
    "\n",
    "diffx = 0 # -989.70\n",
    "diffy = 0 # -58.984\n",
    "\n",
    "def toGPS(simx, simy):\n",
    "    projx, projy = simx+diffx, simy + diffy\n",
    "    lon, lat = mt(projx, projy,inverse=True)\n",
    "    return [lon, lat]\n",
    "\n",
    "print(toGPS(1240.0, 747.0))\n"
   ]
  },
  {
   "cell_type": "code",
   "execution_count": 45,
   "metadata": {
    "collapsed": true,
    "deletable": true,
    "editable": true
   },
   "outputs": [],
   "source": [
    "pts = []\n",
    "for sample in samples:\n",
    "    p = sample[5].split(\":\")\n",
    "    pts.append(toGPS(float(p[0]), float(p[1])))"
   ]
  },
  {
   "cell_type": "code",
   "execution_count": 48,
   "metadata": {
    "collapsed": false,
    "deletable": true,
    "editable": true
   },
   "outputs": [],
   "source": [
    "points = pts"
   ]
  },
  {
   "cell_type": "code",
   "execution_count": 1,
   "metadata": {
    "collapsed": true
   },
   "outputs": [],
   "source": [
    "import cv2\n",
    "import matplotlib.pyplot as plt\n",
    "from matplotlib.path import Path\n",
    "import matplotlib.patches as patches\n",
    "%matplotlib inline\n",
    "\n",
    "from robot import *\n",
    "from geo import *\n",
    "from drawing import *\n",
    "from dataprovider import *"
   ]
  },
  {
   "cell_type": "code",
   "execution_count": 2,
   "metadata": {
    "collapsed": false
   },
   "outputs": [
    {
     "data": {
      "text/plain": [
       "7684"
      ]
     },
     "execution_count": 2,
     "metadata": {},
     "output_type": "execute_result"
    }
   ],
   "source": [
    "filename='data/000/driving_log.csv'\n",
    "position_data = load_simulator_data(filename)\n",
    "len(position_data)"
   ]
  },
  {
   "cell_type": "code",
   "execution_count": 11,
   "metadata": {
    "collapsed": false
   },
   "outputs": [
    {
     "data": {
      "text/plain": [
       "<matplotlib.image.AxesImage at 0x7f7dfce17710>"
      ]
     },
     "execution_count": 11,
     "metadata": {},
     "output_type": "execute_result"
    },
    {
     "data": {
      "image/png": "[encoded data removed]",
      "text/plain": [
       "<matplotlib.figure.Figure at 0x7f7df845a978>"
      ]
     },
     "metadata": {},
     "output_type": "display_data"
    }
   ],
   "source": [
    "import cv2\n",
    "img = np.ones((1500,1800, 3), np.uint8) \n",
    "\n",
    "cv2.circle(img, (1240, 747), 13, (255,0,0), 3)\n",
    "#cv2.circle(img, (1235, 865), 5, (255,0,0), 3)\n",
    "\n",
    "keypoints = []\n",
    "gps_points = []\n",
    "\n",
    "for idx, p in enumerate (position_data):\n",
    "    gps_points.append(toGPS(int(p[1][4]), int(p[1][5])))\n",
    "    pos = (int(p[1][4]), int(p[1][5]))\n",
    "    cv2.circle(img,pos, 1, (0,0,255))\n",
    "    \n",
    "for idx, p in enumerate (position_data):        \n",
    "    if idx % 25 == 0 and idx<1900:\n",
    "        pos = (int(p[1][4]), int(p[1][5]))\n",
    "        cv2.circle(img, pos, 5, (255,255,0), 1)\n",
    "        keypoints.append(pos)\n",
    "\n",
    "plt.figure(figsize=(40,20))\n",
    "plt.imshow(img)"
   ]
  },
  {
   "cell_type": "code",
   "execution_count": 71,
   "metadata": {
    "collapsed": false
   },
   "outputs": [],
   "source": [
    "#ll = (-122.34306, 39.53284)\n",
    "#ur = (-122.33776, 39.54123)\n",
    "\n",
    "p1 = (-122.34653, 39.53112) #ll\n",
    "p2 = (-122.33591, 39.5434) # ur\n",
    "\n",
    "zero = (-122.32115, 39.54733)\n",
    "ur = zero\n",
    "ll = p1\n",
    "\n",
    "mt = Basemap(llcrnrlon=ll[0],llcrnrlat=ll[1],urcrnrlon=ur[0], urcrnrlat=ur[1],\n",
    "    projection='merc',lon_0=zero[0],lat_0=zero[1],resolution='h', lat_ts=zero[1])"
   ]
  },
  {
   "cell_type": "code",
   "execution_count": 85,
   "metadata": {
    "collapsed": false
   },
   "outputs": [],
   "source": [
    "diffx = 1100\n",
    "diffy = 800\n",
    "\n",
    "def rescale(simx,simy):\n",
    "    return 850-simx, 735-simy\n",
    "\n",
    "def toGPS(simx, simy):\n",
    "    simx, simy = rescale(int(simx),int(simy))\n",
    "    projx, projy = simx+diffx, simy + diffy\n",
    "    lon, lat = mt(projx, projy,inverse=True)\n",
    "    return [lon, lat]\n",
    "\n",
    "gps_points = []\n",
    "\n",
    "gps_points.append(toGPS(1690/2, 0))\n",
    "gps_points.append(toGPS(1690/2, 1470))\n",
    "gps_points.append(toGPS(0, 1470/2))\n",
    "gps_points.append(toGPS(1690, 1470/2))\n",
    "\n",
    "for idx, p in enumerate (position_data):\n",
    "    gps_points.append(toGPS(int(p[1][4]), int(p[1][5])))"
   ]
  },
  {
   "cell_type": "code",
   "execution_count": 86,
   "metadata": {
    "collapsed": false
   },
   "outputs": [
    {
     "name": "stdout",
     "output_type": "stream",
     "text": [
      "7688\n"
     ]
    }
   ],
   "source": [
    "print(len(gps_points))\n",
    "replace_str = \"$$COORDINATES$$\"\n",
    "\n",
    "with open(\"thunderhill_calculated.kml\", \"r\") as template_file:\n",
    "    template = template_file.read()\n",
    "scale_factor = 1.0 #  1.3951322472658818    \n",
    "co_ords= \"\"\n",
    "for p in gps_points[:1900]:\n",
    "    co_ords += str(p[0] * scale_factor)+\",\"+str(p[1]*scale_factor)+\",0\\n\" #who cares?\n",
    "    \n",
    "template = template.replace(replace_str, co_ords, 1)\n",
    "with open(\"gps_th.kml\", \"w\") as f:\n",
    "    f.write(template)"
   ]
  },
  {
   "cell_type": "code",
   "execution_count": 68,
   "metadata": {
    "collapsed": false
   },
   "outputs": [
    {
     "name": "stdout",
     "output_type": "stream",
     "text": [
      "592.878284631764\n",
      "827.143613593454\n",
      "1.3951322472658818\n"
     ]
    }
   ],
   "source": [
    "m1=vincenty((39.54127, -122.33925), (39.53593, -122.33924)).meters\n",
    "print(m1)\n",
    "m2=vincenty((39.54072, -122.33823), (39.53327, -122.33821)).meters\n",
    "print(m2)\n",
    "print(m2/m1)\n",
    "\n",
    "m = Basemap(width=1690,height=1470,projection='merc',\n",
    "            resolution='c',lat_1=ur[0],,lat_0=50,lon_0=-107.)"
   ]
  }
 ],
 "metadata": {
  "anaconda-cloud": {},
  "kernelspec": {
   "display_name": "Python 3",
   "language": "python",
   "name": "python3"
  },
  "language_info": {
   "codemirror_mode": {
    "name": "ipython",
    "version": 3
   },
   "file_extension": ".py",
   "mimetype": "text/x-python",
   "name": "python",
   "nbconvert_exporter": "python",
   "pygments_lexer": "ipython3",
   "version": "3.5.2"
  },
  "widgets": {
   "state": {},
   "version": "1.1.2"
  }
 },
 "nbformat": 4,
 "nbformat_minor": 2
}
