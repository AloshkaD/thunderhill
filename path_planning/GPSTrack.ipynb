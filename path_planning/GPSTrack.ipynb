{
 "cells": [
  {
   "cell_type": "code",
   "execution_count": 139,
   "metadata": {
    "collapsed": true
   },
   "outputs": [],
   "source": [
    "points=[\n",
    "            [-122.3387906,39.5374557,0],\n",
    "            [-122.3389462,39.5384693,0],\n",
    "            [-122.3389864,39.5385582,0],\n",
    "            [-122.3390454,39.5386182,0],\n",
    "            [-122.3391178,39.5386658,0],\n",
    "            [-122.3392171,39.5387072,0],\n",
    "            [-122.3392949,39.5387444,0],\n",
    "            [-122.3393539,39.538794,0],\n",
    "            [-122.3393995,39.5388437,0],\n",
    "            [-122.3394129,39.5388768,0],\n",
    "            [-122.3396261,39.5391902,0],\n",
    "            [-122.339673,39.5392677,0],\n",
    "            [-122.339673,39.5392677,0],\n",
    "            [-122.3396797,39.5393225,0],\n",
    "            [-122.3396771,39.5393763,0],\n",
    "            [-122.339665,39.5394187,0],\n",
    "            [-122.3396301,39.5394756,0],\n",
    "            [-122.3395993,39.5395066,0],\n",
    "            [-122.3394477,39.5397218,0],\n",
    "            [-122.3394035,39.5397745,0],\n",
    "            [-122.3393512,39.5398097,0],\n",
    "            [-122.3392868,39.5398438,0],\n",
    "            [-122.3392144,39.5398697,0],\n",
    "            [-122.3391487,39.539879,0],\n",
    "            [-122.3390856,39.5398862,0],\n",
    "            [-122.3388335,39.5398965,0],\n",
    "            [-122.3386967,39.539911,0],\n",
    "            [-122.3386028,39.5399338,0],\n",
    "            [-122.3386028,39.5399338,0],\n",
    "            [-122.3384875,39.5399824,0],\n",
    "            [-122.3383883,39.5400372,0],\n",
    "            [-122.3382957,39.5401127,0],\n",
    "            [-122.3382407,39.5401717,0],\n",
    "            [-122.3381911,39.5402461,0],\n",
    "            [-122.3381576,39.5403206,0],\n",
    "            [-122.3381375,39.5404033,0],\n",
    "            [-122.3381442,39.5405067,0],\n",
    "            [-122.3381589,39.5405936,0],\n",
    "            [-122.3382019,39.5406743,0],\n",
    "            [-122.3382448,39.5407394,0],\n",
    "            [-122.3382998,39.5407912,0],\n",
    "            [-122.3383467,39.5408305,0],\n",
    "            [-122.3383936,39.5408656,0],\n",
    "            [-122.3383936,39.5408656,0],\n",
    "            [-122.3384768,39.5409122,0],\n",
    "            [-122.338568,39.5409494,0],\n",
    "            [-122.3386672,39.5409763,0],\n",
    "            [-122.3387933,39.5409908,0],\n",
    "            [-122.3389167,39.5409908,0],\n",
    "            [-122.3390239,39.5409825,0],\n",
    "            [-122.3391151,39.5409701,0],\n",
    "            [-122.339209,39.5409287,0],\n",
    "            [-122.3416337,39.5396732,0],\n",
    "            [-122.341733,39.5396173,0],\n",
    "            [-122.3418108,39.5395656,0],\n",
    "            [-122.3418295,39.5394953,0],\n",
    "            [-122.3418295,39.5394208,0],\n",
    "            [-122.3418295,39.5393484,0],\n",
    "            [-122.341851,39.5392595,0],\n",
    "            [-122.3418885,39.5391891,0],\n",
    "            [-122.3419476,39.5391043,0],\n",
    "            [-122.34202,39.5390195,0],\n",
    "            [-122.3421299,39.5389285,0],\n",
    "            [-122.3422211,39.5388644,0],\n",
    "            [-122.3423177,39.5387878,0],\n",
    "            [-122.3423941,39.5387092,0],\n",
    "            [-122.3424344,39.5386586,0],\n",
    "            [-122.3424679,39.5386141,0],\n",
    "            [-122.3425041,39.5385531,0],\n",
    "            [-122.3425296,39.5385065,0],\n",
    "            [-122.3425497,39.538462,0],\n",
    "            [-122.3425658,39.5384227,0],\n",
    "            [-122.3425846,39.5383679,0],\n",
    "            [-122.3425953,39.5383069,0],\n",
    "            [-122.3426047,39.5382604,0],\n",
    "            [-122.3426127,39.5382169,0],\n",
    "            [-122.3426194,39.538159,0],\n",
    "            [-122.3426194,39.538099,0],\n",
    "            [-122.3426168,39.5380504,0],\n",
    "            [-122.3426087,39.5379935,0],\n",
    "            [-122.342598,39.5379449,0],\n",
    "            [-122.3425765,39.537887,0],\n",
    "            [-122.3425591,39.5378343,0],\n",
    "            [-122.3425591,39.5378343,0],\n",
    "            [-122.3425336,39.5377763,0],\n",
    "            [-122.3425055,39.5377381,0],\n",
    "            [-122.3424558,39.5376998,0],\n",
    "            [-122.3423874,39.5376584,0],\n",
    "            [-122.3423043,39.5376284,0],\n",
    "            [-122.3422386,39.5376129,0],\n",
    "            [-122.3421447,39.5376057,0],\n",
    "            [-122.3421447,39.5376057,0],\n",
    "            [-122.3420669,39.5375933,0],\n",
    "            [-122.3420052,39.5375757,0],\n",
    "            [-122.3419288,39.5375478,0],\n",
    "            [-122.3418604,39.5375116,0],\n",
    "            [-122.3411067,39.5370792,0],\n",
    "            [-122.3410571,39.5370451,0],\n",
    "            [-122.3410088,39.5370068,0],\n",
    "            [-122.3409592,39.5369603,0],\n",
    "            [-122.3409592,39.5369603,0],\n",
    "            [-122.3409149,39.5369096,0],\n",
    "            [-122.3408854,39.536862,0],\n",
    "            [-122.3408653,39.5368083,0],\n",
    "            [-122.3408411,39.5367193,0],\n",
    "            [-122.3408304,39.5366366,0],\n",
    "            [-122.3408385,39.536558,0],\n",
    "            [-122.3408639,39.5364473,0],\n",
    "            [-122.3408639,39.5364473,0],\n",
    "            [-122.3408827,39.536377,0],\n",
    "            [-122.3408988,39.5363139,0],\n",
    "            [-122.3409042,39.5362642,0],\n",
    "            [-122.3408988,39.5361991,0],\n",
    "            [-122.3408867,39.5361215,0],\n",
    "            [-122.3408867,39.5361215,0],\n",
    "            [-122.3408666,39.5360532,0],\n",
    "            [-122.3407593,39.5357853,0],\n",
    "            [-122.3407473,39.5357564,0],\n",
    "            [-122.3407339,39.5357057,0],\n",
    "            [-122.3407339,39.5357057,0],\n",
    "            [-122.3407245,39.5356157,0],\n",
    "            [-122.3407231,39.5355257,0],\n",
    "            [-122.3407352,39.5354316,0],\n",
    "            [-122.340758,39.535354,0],\n",
    "            [-122.3407929,39.5352692,0],\n",
    "            [-122.3408304,39.5351823,0],\n",
    "            [-122.3411724,39.5345566,0],\n",
    "            [-122.3411925,39.5345059,0],\n",
    "            [-122.3412153,39.5344418,0],\n",
    "            [-122.3412341,39.5343787,0],\n",
    "            [-122.3412435,39.5343032,0],\n",
    "            [-122.3412435,39.534238,0],\n",
    "            [-122.3412381,39.5341646,0],\n",
    "            [-122.341222,39.5340984,0],\n",
    "            [-122.3411939,39.5340208,0],\n",
    "            [-122.3411563,39.5339453,0],\n",
    "            [-122.3411188,39.5338812,0],\n",
    "            [-122.3410852,39.5338377,0],\n",
    "            [-122.3409994,39.5337571,0],\n",
    "            [-122.3409069,39.5336878,0],\n",
    "            [-122.3409069,39.5336878,0],\n",
    "            [-122.3408076,39.5336226,0],\n",
    "            [-122.3406735,39.5335647,0],\n",
    "            [-122.3404911,39.533515,0],\n",
    "            [-122.3403329,39.5334902,0],\n",
    "            [-122.3401746,39.5334674,0],\n",
    "            [-122.3400351,39.5334364,0],\n",
    "            [-122.3399091,39.533395,0],\n",
    "            [-122.3398259,39.5333578,0],\n",
    "            [-122.3397267,39.5333144,0],\n",
    "            [-122.3396221,39.5332544,0],\n",
    "            [-122.3395148,39.5331923,0],\n",
    "            [-122.3394209,39.5331447,0],\n",
    "            [-122.3393109,39.5331034,0],\n",
    "            [-122.3391983,39.5330723,0],\n",
    "            [-122.3390669,39.5330454,0],\n",
    "            [-122.3389515,39.5330289,0],\n",
    "            [-122.3388416,39.5330185,0],\n",
    "            [-122.3387316,39.5330185,0],\n",
    "            [-122.3387316,39.5330185,0],\n",
    "            [-122.3386565,39.533031,0],\n",
    "            [-122.3382702,39.5331116,0],\n",
    "            [-122.3382045,39.5331509,0],\n",
    "            [-122.3381737,39.5331996,0],\n",
    "            [-122.338163,39.5332554,0],\n",
    "            [-122.3381938,39.5333144,0],\n",
    "            [-122.3382622,39.5333557,0],\n",
    "            [-122.3383239,39.5333754,0],\n",
    "            [-122.3387624,39.5335099,0],\n",
    "            [-122.3388255,39.5335347,0],\n",
    "            [-122.3389193,39.5335802,0],\n",
    "            [-122.3389193,39.5335802,0],\n",
    "            [-122.3390172,39.5336443,0],\n",
    "            [-122.3390642,39.5336774,0],\n",
    "            [-122.3399694,39.5344045,0],\n",
    "            [-122.340011,39.5344449,0],\n",
    "            [-122.3400486,39.5344883,0],\n",
    "            [-122.3400915,39.5345411,0],\n",
    "            [-122.340129,39.5346052,0],\n",
    "            [-122.3401545,39.5346579,0],\n",
    "            [-122.34018,39.5347366,0],\n",
    "            [-122.3401974,39.5348038,0],\n",
    "            [-122.3402081,39.5348721,0],\n",
    "            [-122.3402068,39.5349238,0],\n",
    "            [-122.3402068,39.5349724,0],\n",
    "            [-122.3401974,39.5350241,0],\n",
    "            [-122.340019,39.5358133,0],\n",
    "            [-122.3400056,39.5358433,0],\n",
    "            [-122.3399828,39.5358774,0],\n",
    "            [-122.3399346,39.5359115,0],\n",
    "            [-122.3398715,39.5359374,0],\n",
    "            [-122.3398139,39.5359457,0],\n",
    "            [-122.3397481,39.5359415,0],\n",
    "            [-122.3396824,39.5359208,0],\n",
    "            [-122.3396234,39.5358919,0],\n",
    "            [-122.3395845,39.5358557,0],\n",
    "            [-122.339555,39.5358122,0],\n",
    "            [-122.3394276,39.5355123,0],\n",
    "            [-122.3393646,39.5354285,0],\n",
    "            [-122.3393096,39.5353758,0],\n",
    "            [-122.3392533,39.5353344,0],\n",
    "            [-122.3391755,39.5352847,0],\n",
    "            [-122.3391058,39.5352547,0],\n",
    "            [-122.3387302,39.5351399,0],\n",
    "            [-122.3386136,39.5351399,0],\n",
    "            [-122.338517,39.5351637,0],\n",
    "            [-122.3384674,39.5352061,0],\n",
    "            [-122.3384567,39.535293,0],\n",
    "            [-122.3387906,39.5374557,0]    \n",
    "]"
   ]
  },
  {
   "cell_type": "code",
   "execution_count": 140,
   "metadata": {
    "collapsed": false
   },
   "outputs": [
    {
     "name": "stdout",
     "output_type": "stream",
     "text": [
      "113.03796570142124\n",
      "250.29966201494113 688.01574520953\n"
     ]
    }
   ],
   "source": [
    "from geopy.distance import vincenty\n",
    "\n",
    "start = (39.53745, -122.33879)\n",
    "a = (39.538462, -122.338934)\n",
    "\n",
    "print(vincenty(start, a).meters)\n",
    "m = Basemap(llcrnrlon=-122.341041,llcrnrlat=39.532678,urcrnrlon=-122.337929,urcrnrlat=39.541455,\n",
    "#m = Basemap(llcrnrx=0,llcrnry=0,urcrnrx=500,urcrnry=500,\n",
    "    projection='merc',lon_0=start[1],lat_0=start[0],resolution='h')\n",
    "p = start\n",
    "x1,y1=m(p[1], p[0])\n",
    "print(x1,y1)"
   ]
  },
  {
   "cell_type": "code",
   "execution_count": 141,
   "metadata": {
    "collapsed": false
   },
   "outputs": [],
   "source": [
    "\n",
    "verts = [m(-122.3387906, 39.5374557)]\n",
    "codes=[Path.MOVETO]\n",
    "for p in points:\n",
    "    x1,y1=m(p[0], p[1])\n",
    "    verts.append((x1,y1))\n",
    "    codes.append(Path.LINETO)"
   ]
  },
  {
   "cell_type": "code",
   "execution_count": 142,
   "metadata": {
    "collapsed": false
   },
   "outputs": [
    {
     "data": {
      "image/png": "[encoded data removed]",
      "text/plain": [
       "<matplotlib.figure.Figure at 0x11d0154e0>"
      ]
     },
     "metadata": {},
     "output_type": "display_data"
    }
   ],
   "source": [
    "import matplotlib.pyplot as plt\n",
    "from matplotlib.path import Path\n",
    "import matplotlib.patches as patches\n",
    "%matplotlib inline\n",
    "\n",
    "path = Path(verts, codes)\n",
    "fig = plt.figure()\n",
    "ax = fig.add_subplot(111)\n",
    "patch = patches.PathPatch(path, facecolor='white')\n",
    "ax.add_patch(patch)\n",
    "ax.set_xlim(-200,1300)\n",
    "ax.set_ylim(-200,1300)\n",
    "plt.show()"
   ]
  },
  {
   "cell_type": "code",
   "execution_count": 153,
   "metadata": {
    "collapsed": false
   },
   "outputs": [
    {
     "data": {
      "image/png": "[encoded data removed]",
      "text/plain": [
       "<matplotlib.figure.Figure at 0x123b53160>"
      ]
     },
     "metadata": {},
     "output_type": "display_data"
    }
   ],
   "source": [
    "from bresenham import Bresenham\n",
    "import matplotlib.pyplot as plt\n",
    "from matplotlib.path import Path\n",
    "import matplotlib.patches as patches\n",
    "from matplotlib.lines import Line2D  \n",
    "%matplotlib inline\n",
    "\n",
    "path = Path(verts, codes)\n",
    "fig = plt.figure()\n",
    "ax = fig.add_subplot(111)\n",
    "prev = verts[0]\n",
    "#patch = patches.PathPatch(path, facecolor='white')\n",
    "#ax.add_patch(patch)\n",
    "path_plan = []\n",
    "for v in verts[2:]:\n",
    "    #ax.add_line(Line2D([prev[0], v[0]], [prev[1], v[1]], linewidth=1, color='black'))\n",
    "    #prev = v\n",
    "\n",
    "    #print(v)\n",
    "    try:\n",
    "        l = Bresenham((int(prev[0]), int(prev[1])), (int(v[0]), int(v[1])))    \n",
    "        for p in l.path:\n",
    "            path_plan.append(p)\n",
    "    except:\n",
    "        pass\n",
    "    prev = v\n",
    "\n",
    "for p in path_plan:\n",
    "    circle1 = plt.Circle((p[0]+200, p[1]), 1, color='r')\n",
    "    ax.add_artist(circle1)\n",
    "\n",
    "    \n",
    "ax.set_xlim(-250,1300)\n",
    "ax.set_ylim(-250,1300)\n",
    "plt.show()"
   ]
  },
  {
   "cell_type": "code",
   "execution_count": 162,
   "metadata": {
    "collapsed": false
   },
   "outputs": [
    {
     "data": {
      "text/plain": [
       "3331"
      ]
     },
     "execution_count": 162,
     "metadata": {},
     "output_type": "execute_result"
    },
    {
     "data": {
      "image/png": "[encoded data removed]",
      "text/plain": [
       "<matplotlib.figure.Figure at 0x124998fd0>"
      ]
     },
     "metadata": {},
     "output_type": "display_data"
    }
   ],
   "source": [
    "img = np.zeros((1250,600, 3), np.uint8)\n",
    "\n",
    "for p in path_plan:\n",
    "    cv2.circle(img,(p[0]+220, p[1]+10), 1, (0,0,255))\n",
    "plt.imshow(img)\n",
    "len(path_plan)"
   ]
  },
  {
   "cell_type": "code",
   "execution_count": 98,
   "metadata": {
    "collapsed": true
   },
   "outputs": [],
   "source": [
    "pointsx = [\n",
    "            [-122.3387906,39.5374557,0],\n",
    "            [-122.3389462,39.5384693,0],\n",
    "            [-122.3389864,39.5385582,0],\n",
    "            [-122.3390454,39.5386182,0],\n",
    "            [-122.3391178,39.5386658,0],\n",
    "            [-122.3392171,39.5387072,0],\n",
    "            [-122.3392949,39.5387444,0],\n",
    "            [-122.3393539,39.538794,0],\n",
    "            [-122.3393995,39.5388437,0],\n",
    "            [-122.3394129,39.5388768,0],\n",
    "            [-122.3396261,39.5391902,0],\n",
    "            [-122.339673,39.5392677,0]\n",
    "]"
   ]
  },
  {
   "cell_type": "code",
   "execution_count": 115,
   "metadata": {
    "collapsed": false
   },
   "outputs": [
    {
     "name": "stdout",
     "output_type": "stream",
     "text": [
      "[(250, 688), (250, 689), (250, 690), (250, 691), (250, 692), (249, 693), (249, 694), (249, 695), (249, 696), (249, 697), (249, 698), (249, 699), (249, 700), (248, 701), (248, 702), (248, 703), (248, 704), (248, 705), (248, 706), (248, 707), (248, 708), (247, 709), (247, 710), (247, 711), (247, 712), (247, 713), (247, 714), (247, 715), (247, 716), (246, 717), (246, 718), (246, 719), (246, 720), (246, 721), (246, 722), (246, 723), (246, 724), (245, 725), (245, 726), (245, 727), (245, 728), (245, 729), (245, 730), (245, 731), (245, 732), (244, 733), (244, 734), (244, 735), (244, 736), (244, 737), (244, 738), (244, 739), (244, 740), (243, 741), (243, 742), (243, 743), (243, 744), (243, 745), (243, 746), (243, 747), (243, 748), (242, 749), (242, 750), (242, 751), (242, 752), (242, 753), (242, 754), (242, 755), (242, 756), (241, 757), (241, 758), (241, 759), (241, 760), (241, 761), (241, 762), (241, 763), (241, 764), (241, 765), (240, 766), (240, 767), (240, 768), (240, 769), (240, 770), (240, 771), (240, 772), (240, 773), (239, 774), (239, 775), (239, 776), (239, 777), (239, 778), (239, 779), (239, 780), (239, 781), (238, 782), (238, 783), (238, 784), (238, 785), (238, 786), (238, 787), (238, 788), (238, 789), (237, 790), (237, 791), (237, 792), (237, 793), (237, 794), (237, 795), (237, 796), (237, 797), (236, 798), (236, 799), (236, 800), (236, 801), (236, 802), (236, 803), (236, 804), (236, 805), (235, 806), (235, 807), (235, 808), (235, 809), (235, 810), (235, 811), (235, 812), (235, 813), (234, 814), (234, 815), (234, 816), (234, 817), (234, 818), (234, 819), (234, 820), (234, 821), (233, 822), (233, 823), (233, 824), (233, 825), (233, 826), (233, 827), (233, 828), (233, 829), (232, 830), (232, 831), (232, 832), (232, 833), (232, 834)]\n"
     ]
    }
   ],
   "source": [
    "\n",
    "#l = Bresenham((int(verts[1][0]), int(verts[0][1])), (int(verts[2][0]), int(verts[2][1])))\n",
    "#print (l.path)"
   ]
  },
  {
   "cell_type": "code",
   "execution_count": 171,
   "metadata": {
    "collapsed": false
   },
   "outputs": [
    {
     "name": "stdout",
     "output_type": "stream",
     "text": [
      "[MoviePy] >>>> Building video path.mp4\n",
      "[MoviePy] Writing video path.mp4\n"
     ]
    },
    {
     "name": "stderr",
     "output_type": "stream",
     "text": [
      "100%|█████████▉| 3336/3337 [00:21<00:00, 153.96it/s]"
     ]
    },
    {
     "name": "stdout",
     "output_type": "stream",
     "text": [
      "[MoviePy] Done.\n",
      "[MoviePy] >>>> Video ready: path.mp4 \n",
      "\n"
     ]
    },
    {
     "name": "stderr",
     "output_type": "stream",
     "text": [
      "\n"
     ]
    }
   ],
   "source": [
    "import imageio\n",
    "imageio.plugins.ffmpeg.download()\n",
    "import numpy as np\n",
    "import moviepy.editor as mpy\n",
    "import cv2\n",
    "W = 1\n",
    "\n",
    "maxp = len(path_plan)\n",
    "\n",
    "def make_frame(t):\n",
    "    pi = int(t * 24) % maxp\n",
    "    p = path_plan[pi] \n",
    "    #print(cur_p)\n",
    "    cp_img = np.copy(img)\n",
    "    cv2.circle(cp_img,(p[0]+220, p[1]+10), pi % 10, (255,0,0))\n",
    "    return cp_img # returns a 8-bit RGB array\n",
    "\n",
    "clip = mpy.VideoClip(make_frame, duration=(int(maxp/24)+1)) # 2 seconds\n",
    "clip.write_videofile(\"path.mp4\",fps=24, codec='mpeg4')"
   ]
  }
 ],
 "metadata": {
  "kernelspec": {
   "display_name": "Python 3",
   "language": "python",
   "name": "python3"
  },
  "language_info": {
   "codemirror_mode": {
    "name": "ipython",
    "version": 3
   },
   "file_extension": ".py",
   "mimetype": "text/x-python",
   "name": "python",
   "nbconvert_exporter": "python",
   "pygments_lexer": "ipython3",
   "version": "3.5.2"
  },
  "widgets": {
   "state": {},
   "version": "1.1.2"
  }
 },
 "nbformat": 4,
 "nbformat_minor": 2
}
