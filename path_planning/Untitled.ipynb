{
 "cells": [
  {
   "cell_type": "code",
   "execution_count": 7,
   "metadata": {
    "collapsed": false
   },
   "outputs": [
    {
     "name": "stdout",
     "output_type": "stream",
     "text": [
      "[(0, 10), (1, 10), (2, 10), (3, 10), (4, 10), (5, 10), (6, 10), (7, 10), (8, 10), (9, 10), (10, 10), (11, 10), (12, 10), (13, 10), (14, 10), (15, 10), (16, 10), (17, 10), (18, 10), (19, 10), (20, 10), (21, 10), (22, 10), (23, 10), (24, 10), (25, 10), (26, 10), (27, 10), (28, 10), (29, 10), (30, 10), (31, 10), (32, 10), (33, 10), (34, 10), (35, 10), (36, 10), (37, 10), (38, 10), (39, 10), (40, 10), (41, 10), (42, 10), (43, 10), (44, 10), (45, 10), (46, 10), (47, 10), (48, 10), (49, 10), (50, 10), (51, 10), (52, 10), (53, 10), (54, 10), (55, 10), (56, 10), (57, 10), (58, 10), (59, 10), (60, 10), (61, 10), (62, 10), (63, 10), (64, 10), (65, 10), (66, 10), (67, 10), (68, 10), (69, 10), (70, 10), (71, 10), (72, 10), (73, 10), (74, 10), (75, 10), (76, 10), (77, 10), (78, 10), (79, 10), (80, 10), (81, 10), (82, 10), (83, 10), (84, 10), (85, 10), (86, 10), (87, 10), (88, 10), (89, 10), (90, 10), (91, 10), (92, 10), (93, 10), (94, 10), (95, 10), (96, 10), (97, 10), (98, 10), (99, 10), (100, 10)]\n"
     ]
    }
   ],
   "source": [
    "class bresenham:\n",
    "\tdef __init__(self, start, end):\n",
    "\t\tself.start = list(start)\n",
    "\t\tself.end = list(end)\n",
    "\t\tself.path = []\n",
    "\t\t\n",
    "\t\tself.steep = abs(self.end[1]-self.start[1]) > abs(self.end[0]-self.start[0])\n",
    "\t\t\n",
    "\t\tif self.steep:\n",
    "\t\t\t#print 'Steep'\n",
    "\t\t\tself.start = self.swap(self.start[0],self.start[1])\n",
    "\t\t\tself.end = self.swap(self.end[0],self.end[1])\n",
    "\t\t\n",
    "\t\tif self.start[0] > self.end[0]:\n",
    "\t\t\t#print 'flippin and floppin'\n",
    "\t\t\t_x0 = int(self.start[0])\n",
    "\t\t\t_x1 = int(self.end[0])\n",
    "\t\t\tself.start[0] = _x1\n",
    "\t\t\tself.end[0] = _x0\n",
    "\t\t\t\n",
    "\t\t\t_y0 = int(self.start[1])\n",
    "\t\t\t_y1 = int(self.end[1])\n",
    "\t\t\tself.start[1] = _y1\n",
    "\t\t\tself.end[1] = _y0\n",
    "\t\t\n",
    "\t\tdx = self.end[0] - self.start[0]\n",
    "\t\tdy = abs(self.end[1] - self.start[1])\n",
    "\t\terror = 0\n",
    "\t\tderr = dy/float(dx)\n",
    "\t\t\n",
    "\t\tystep = 0\n",
    "\t\ty = self.start[1]\n",
    "\t\t\n",
    "\t\tif self.start[1] < self.end[1]: ystep = 1\n",
    "\t\telse: ystep = -1\n",
    "\t\t\n",
    "\t\tfor x in range(self.start[0],self.end[0]+1):\n",
    "\t\t\tif self.steep:\n",
    "\t\t\t\tself.path.append((y,x))\n",
    "\t\t\telse:\n",
    "\t\t\t\tself.path.append((x,y))\n",
    "\t\t\t\n",
    "\t\t\terror += derr\n",
    "\t\t\t\n",
    "\t\t\tif error >= 0.5:\n",
    "\t\t\t\ty += ystep\n",
    "\t\t\t\terror -= 1.0\n",
    "\t\t\n",
    "\t\n",
    "\tdef swap(self,n1,n2):\n",
    "\t\treturn [n2,n1]\n",
    "\n",
    "l = bresenham([0,10],[100,10])\n",
    "print (l.path)\n"
   ]
  }
 ],
 "metadata": {
  "kernelspec": {
   "display_name": "Python 3",
   "language": "python",
   "name": "python3"
  },
  "language_info": {
   "codemirror_mode": {
    "name": "ipython",
    "version": 3
   },
   "file_extension": ".py",
   "mimetype": "text/x-python",
   "name": "python",
   "nbconvert_exporter": "python",
   "pygments_lexer": "ipython3",
   "version": "3.5.2"
  },
  "widgets": {
   "state": {},
   "version": "1.1.2"
  }
 },
 "nbformat": 4,
 "nbformat_minor": 2
}
