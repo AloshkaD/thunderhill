{
 "cells": [
  {
   "cell_type": "code",
   "execution_count": 30,
   "metadata": {
    "collapsed": false
   },
   "outputs": [
    {
     "name": "stdout",
     "output_type": "stream",
     "text": [
      "[['IMG/15395510-1490933535922128.jpeg' 0.0 0.0 ..., 0.0 0.0 0.0]\n",
      " ['IMG/15395510-1490933535931443.jpeg' 0.0 0.0 ..., 0.0 0.0 0.0]\n",
      " ['IMG/15395510-1490933535944288.jpeg' 0.0 0.0 ..., 0.0 0.0 0.018311]\n",
      " ..., \n",
      " ['IMG/15395510-1490922708012476.jpeg' 0.0 -2.135239205083414 ...,\n",
      "  -0.006981 0.0 0.018311]\n",
      " ['IMG/15395510-1490922708026600.jpeg' 0.0 -2.1352389387673045 ...,\n",
      "  -0.006981 0.0 0.013733]\n",
      " ['IMG/15395510-1490922708039240.jpeg' 0.0 -2.135238672451196 ...,\n",
      "  -0.008727 0.0 0.018311]]\n"
     ]
    }
   ],
   "source": [
    "import os\n",
    "import pandas as pd\n",
    "import glob\n",
    "\n",
    "COLUMNS=['path', 'heading', 'longitude', 'latitude', 'quarternion0',\n",
    "       'quarternion1', 'quarternion2', 'quarternion3', 'vel0', 'vel1', 'vel2',\n",
    "       'acc0', 'acc1', 'acc2', 'steering', 'throttle', 'brake']\n",
    "data_frame = None\n",
    "for data_set in glob.glob(os.path.join('**', 'output_accel.txt')):\n",
    "    df = pd.read_csv(data_set)\n",
    "    df = df[COLUMNS]\n",
    "    if data_frame is None:\n",
    "        data_frame = df\n",
    "    else:\n",
    "        data_frame = data_frame.append(df, ignore_index=True)\n",
    "    \n",
    "print(data_frame.values)"
   ]
  },
  {
   "cell_type": "code",
   "execution_count": null,
   "metadata": {
    "collapsed": true
   },
   "outputs": [],
   "source": []
  }
 ],
 "metadata": {
  "anaconda-cloud": {},
  "kernelspec": {
   "display_name": "Python [conda root]",
   "language": "python",
   "name": "conda-root-py"
  },
  "language_info": {
   "codemirror_mode": {
    "name": "ipython",
    "version": 3
   },
   "file_extension": ".py",
   "mimetype": "text/x-python",
   "name": "python",
   "nbconvert_exporter": "python",
   "pygments_lexer": "ipython3",
   "version": "3.5.2"
  }
 },
 "nbformat": 4,
 "nbformat_minor": 1
}
